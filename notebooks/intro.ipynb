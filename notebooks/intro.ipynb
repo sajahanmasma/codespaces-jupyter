{
 "cells": [
  {
   "cell_type": "code",
   "execution_count": 4,
   "metadata": {},
   "outputs": [
    {
     "name": "stdout",
     "output_type": "stream",
     "text": [
      "hello masma Python 3\n"
     ]
    }
   ],
   "source": [
    "print('hello masma',end=\" \")\n",
    "print('Python 3')"
   ]
  },
  {
   "cell_type": "code",
   "execution_count": 6,
   "metadata": {},
   "outputs": [
    {
     "name": "stdout",
     "output_type": "stream",
     "text": [
      "it AMC TEC\n",
      "it-AMC-TEC\n"
     ]
    }
   ],
   "source": [
    "print(\"it\",\"AMC\",\"TEC\")\n",
    "print(\"it\",\"AMC\",\"TEC\",sep='-')"
   ]
  },
  {
   "cell_type": "code",
   "execution_count": 9,
   "metadata": {},
   "outputs": [
    {
     "name": "stdout",
     "output_type": "stream",
     "text": [
      "python-Java-PHP!\n",
      "it/AMC/TEC!"
     ]
    }
   ],
   "source": [
    "print(\"python\",\"Java\",\"PHP\",sep='-',end='!\\n')\n",
    "print(\"it\",\"AMC\",\"TEC\",sep='/',end='!')"
   ]
  },
  {
   "cell_type": "markdown",
   "metadata": {},
   "source": []
  },
  {
   "cell_type": "code",
   "execution_count": 11,
   "metadata": {},
   "outputs": [
    {
     "name": "stdout",
     "output_type": "stream",
     "text": [
      "aa\n",
      "*---"
     ]
    }
   ],
   "source": [
    "print('a'*2)\n",
    "print('*',end='-'*3)"
   ]
  }
 ],
 "metadata": {
  "kernelspec": {
   "display_name": "Python 3",
   "language": "python",
   "name": "python3"
  },
  "language_info": {
   "codemirror_mode": {
    "name": "ipython",
    "version": 3
   },
   "file_extension": ".py",
   "mimetype": "text/x-python",
   "name": "python",
   "nbconvert_exporter": "python",
   "pygments_lexer": "ipython3",
   "version": "3.10.13"
  }
 },
 "nbformat": 4,
 "nbformat_minor": 2
}
